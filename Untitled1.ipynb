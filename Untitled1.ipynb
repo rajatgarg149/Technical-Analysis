{
 "cells": [
  {
   "cell_type": "code",
   "execution_count": 1,
   "metadata": {
    "collapsed": false
   },
   "outputs": [
    {
     "data": {
      "text/html": [
       "<script>\n",
       "    // AUTORUN ALL CELLS ON NOTEBOOK-LOAD!\n",
       "    require(\n",
       "        ['base/js/namespace', 'jquery'], \n",
       "        function(jupyter, $) {\n",
       "            $(jupyter.events).on(\"kernel_ready.Kernel\", function () {\n",
       "                console.log(\"Auto-running all cells-below...\");\n",
       "                jupyter.actions.call('jupyter-notebook:run-all-cells-below');\n",
       "                jupyter.actions.call('jupyter-notebook:save-notebook');\n",
       "            });\n",
       "        }\n",
       "    );\n",
       "</script>"
      ],
      "text/plain": [
       "<IPython.core.display.HTML object>"
      ]
     },
     "metadata": {},
     "output_type": "display_data"
    }
   ],
   "source": [
    "%%html\n",
    "<script>\n",
    "    // AUTORUN ALL CELLS ON NOTEBOOK-LOAD!\n",
    "    require(\n",
    "        ['base/js/namespace', 'jquery'], \n",
    "        function(jupyter, $) {\n",
    "            $(jupyter.events).on(\"kernel_ready.Kernel\", function () {\n",
    "                console.log(\"Auto-running all cells-below...\");\n",
    "                jupyter.actions.call('jupyter-notebook:run-all-cells-below');\n",
    "                jupyter.actions.call('jupyter-notebook:save-notebook');\n",
    "            });\n",
    "        }\n",
    "    );\n",
    "</script>"
   ]
  },
  {
   "cell_type": "code",
   "execution_count": 2,
   "metadata": {
    "collapsed": false
   },
   "outputs": [],
   "source": [
    "import numpy as np\n",
    "import pandas as pd\n",
    "\n",
    "import matplotlib.pyplot as plt\n",
    "plt.rcParams['figure.dpi']= 500\n",
    "%matplotlib inline\n",
    "\n"
   ]
  },
  {
   "cell_type": "code",
   "execution_count": 3,
   "metadata": {
    "collapsed": false
   },
   "outputs": [],
   "source": [
    "from IMPORTANT_POINTS import IMPORTANT_POINTS"
   ]
  },
  {
   "cell_type": "code",
   "execution_count": 4,
   "metadata": {
    "collapsed": false
   },
   "outputs": [],
   "source": [
    "data = pd.read_csv('./SPY1.csv')\n",
    "\n",
    "tolerance = .015\n",
    "tolerance1 = .0075"
   ]
  },
  {
   "cell_type": "code",
   "execution_count": 5,
   "metadata": {
    "collapsed": true
   },
   "outputs": [],
   "source": [
    "data = pd.read_csv('./SPY1.csv')"
   ]
  },
  {
   "cell_type": "code",
   "execution_count": 6,
   "metadata": {
    "collapsed": false
   },
   "outputs": [],
   "source": [
    "def patterns(a, R = 1.05, trading_days = 38):\n",
    "    minmax_list = IMPORTANT_POINTS(a, R)\n",
    "    pattern_list = []\n",
    "    En = [x[0] for x in minmax_list]\n",
    "    index = [x[1] for x in minmax_list]\n",
    "    n = len(index)\n",
    "    for i in range(0,n-4):\n",
    "        b = En[i:i+5]\n",
    "        if index[i+4] - index[i] > trading_days :\n",
    "            pattern_list.append(['None', [index[i], index[i+1], index[i+2], index[i+3], index[i+4]]])\n",
    "            continue\n",
    "        if En[i] > En[i+1]:\n",
    "            if RTOP(b):\n",
    "                pattern_list.append(['RTOP', [index[i], index[i+1], index[i+2], index[i+3], index[i+4]]])\n",
    "                continue\n",
    "            if HS(b):\n",
    "                pattern_list.append(['HS', [index[i], index[i+1], index[i+2], index[i+3], index[i+4]]])\n",
    "                continue\n",
    "            if BTOP(b):\n",
    "                pattern_list.append(['BTOP', [index[i], index[i+1], index[i+2], index[i+3], index[i+4]]])\n",
    "                continue\n",
    "            if TTOP(b):\n",
    "                pattern_list.append(['TTOP', [index[i], index[i+1], index[i+2], index[i+3], index[i+4]]])\n",
    "                continue\n",
    "            else:\n",
    "                pattern_list.append(['None', [index[i], index[i+1], index[i+2], index[i+3], index[i+4]]])\n",
    "        else:\n",
    "            if RBOT(b):\n",
    "                pattern_list.append(['RBOT', [index[i], index[i+1], index[i+2], index[i+3], index[i+4]]])\n",
    "                continue\n",
    "            if IHS(b):\n",
    "                pattern_list.append(['IHS', [index[i], index[i+1], index[i+2], index[i+3], index[i+4]]])\n",
    "                continue\n",
    "            if BBOT(b):\n",
    "                pattern_list.append(['BBOT', [index[i], index[i+1], index[i+2], index[i+3], index[i+4]]])\n",
    "                continue\n",
    "            if TBOT(b):\n",
    "                pattern_list.append(['TBOT', [index[i], index[i+1], index[i+2], index[i+3], index[i+4]]])\n",
    "                continue\n",
    "            else:\n",
    "                pattern_list.append(['None', [index[i], index[i+1], index[i+2], index[i+3], index[i+4]]])\n",
    "    return pattern_list    "
   ]
  },
  {
   "cell_type": "code",
   "execution_count": 7,
   "metadata": {
    "collapsed": false
   },
   "outputs": [],
   "source": [
    "def HS(a):\n",
    "    cond1 = (abs(a[0] - (a[0]+a[4])/2) < tolerance*((a[0]+a[4])/2))\n",
    "    cond2 = (abs(a[1] - (a[1]+a[3])/2) < tolerance*((a[1]+a[3])/2))\n",
    "    if a[0] < a[1] :\n",
    "        return False\n",
    "    if a[2] > a[0] and a[2] > a[4] and cond1 and cond2:\n",
    "        return True\n",
    "    return False"
   ]
  },
  {
   "cell_type": "code",
   "execution_count": 8,
   "metadata": {
    "collapsed": true
   },
   "outputs": [],
   "source": [
    "def IHS(a):\n",
    "    cond1 = (abs(a[0] - (a[0]+a[4])/2) < tolerance*((a[0]+a[4])/2))\n",
    "    cond2 = (abs(a[1] - (a[1]+a[3])/2) < tolerance*((a[1]+a[3])/2))\n",
    "    if a[0] > a[1] :\n",
    "        return False\n",
    "    if a[2] < a[0] and a[2] < a[4] and cond1 and cond2:\n",
    "        return True\n",
    "    return False"
   ]
  },
  {
   "cell_type": "code",
   "execution_count": 9,
   "metadata": {
    "collapsed": true
   },
   "outputs": [],
   "source": [
    "def BTOP(a):\n",
    "    if a[0] < a[1]:\n",
    "        return False\n",
    "    if a[0] < a[2] and a[2] < a[4] and a[1] > a[3]:\n",
    "        return True\n",
    "    return False"
   ]
  },
  {
   "cell_type": "code",
   "execution_count": 10,
   "metadata": {
    "collapsed": true
   },
   "outputs": [],
   "source": [
    "def BBOT(a):\n",
    "    if a[1] < a[0]:\n",
    "        return False\n",
    "    if a[0] > a[2] and a[2] > a[4] and a[1] < a[3]:\n",
    "        return True\n",
    "    return False"
   ]
  },
  {
   "cell_type": "code",
   "execution_count": 11,
   "metadata": {
    "collapsed": true
   },
   "outputs": [],
   "source": [
    "def TTOP(a):\n",
    "    if a[0] < a[1]:\n",
    "        return False\n",
    "    if a[0] > a[2] and a[2] > a[4] and a[1] < a[3]:\n",
    "        return True\n",
    "    return False"
   ]
  },
  {
   "cell_type": "code",
   "execution_count": 12,
   "metadata": {
    "collapsed": true
   },
   "outputs": [],
   "source": [
    "def TBOT(a):\n",
    "    if a[0] > a[1]:\n",
    "        return False\n",
    "    if a[0] < a[2] and a[2] < a[4] and a[1] > a[3]:\n",
    "        return True\n",
    "    return False"
   ]
  },
  {
   "cell_type": "code",
   "execution_count": 13,
   "metadata": {
    "collapsed": true
   },
   "outputs": [],
   "source": [
    "def RTOP(a):\n",
    "    cond1 = (abs(a[0] - (a[0]+a[2]+a[4])/3) < tolerance1*((a[0]+a[2]+a[4])/3))\n",
    "    cond2 = (abs(a[2] - (a[0]+a[2]+a[4])/3) < tolerance1*((a[0]+a[2]+a[4])/3))\n",
    "    cond3 = (abs(a[4] - (a[0]+a[2]+a[4])/3) < tolerance1*((a[0]+a[2]+a[4])/3))\n",
    "    cond4 = (abs(a[1] - (a[1]+a[3])/2) < tolerance1*((a[1]+a[3])/2))\n",
    "    cond5 = (abs(a[3] - (a[1]+a[3])/2) < tolerance1*((a[1]+a[3])/2))\n",
    "    if a[0] < a[1]:\n",
    "        return False\n",
    "    if cond1 and cond2 and cond3 and cond4 and cond5 and ltop_gt_hbot(a):\n",
    "        return True\n",
    "    return False    "
   ]
  },
  {
   "cell_type": "code",
   "execution_count": 14,
   "metadata": {
    "collapsed": true
   },
   "outputs": [],
   "source": [
    "def RBOT(a):\n",
    "    cond1 = (abs(a[0] - (a[0]+a[2]+a[4])/3) < tolerance1*((a[0]+a[2]+a[4])/3))\n",
    "    cond2 = (abs(a[2] - (a[0]+a[2]+a[4])/3) < tolerance1*((a[0]+a[2]+a[4])/3))\n",
    "    cond3 = (abs(a[4] - (a[0]+a[2]+a[4])/3) < tolerance1*((a[0]+a[2]+a[4])/3))\n",
    "    cond4 = (abs(a[1] - (a[1]+a[3])/2) < tolerance1*((a[1]+a[3])/2))\n",
    "    cond5 = (abs(a[3] - (a[1]+a[3])/2) < tolerance1*((a[1]+a[3])/2))\n",
    "    if a[0] > a[1]:\n",
    "        return False\n",
    "    if cond1 and cond2 and cond3 and cond4 and cond5 and ltop_gt_hbot(a):\n",
    "        return True\n",
    "    return False    "
   ]
  },
  {
   "cell_type": "code",
   "execution_count": 15,
   "metadata": {
    "collapsed": false
   },
   "outputs": [],
   "source": [
    "def DTOP(a):\n",
    "    if a[0] < a[1]:\n",
    "        return False\n",
    "    "
   ]
  },
  {
   "cell_type": "code",
   "execution_count": 16,
   "metadata": {
    "collapsed": true
   },
   "outputs": [],
   "source": [
    "def DBOT(a):\n",
    "    if a[1] < a[0]:\n",
    "        return False\n",
    "    "
   ]
  },
  {
   "cell_type": "code",
   "execution_count": 17,
   "metadata": {
    "collapsed": true
   },
   "outputs": [],
   "source": [
    "def ltop_gt_hbot(a):\n",
    "    #maxima first\n",
    "    if a[0] > a[1]:\n",
    "        if a[0] < a[2] and a[0] < a[4]:\n",
    "            if a[1] > a[3]:\n",
    "                if a[0] < a[1]:\n",
    "                    return False\n",
    "                else:\n",
    "                    return True\n",
    "            else:\n",
    "                if a[0] < a[3]:\n",
    "                    return False\n",
    "                else:\n",
    "                    return True\n",
    "        if a[2] < a[0] and a[2] < a[4]:\n",
    "            if a[1] > a[3]:\n",
    "                if a[2] < a[1]:\n",
    "                    return False\n",
    "                else:\n",
    "                    return True\n",
    "            else:\n",
    "                if a[2] < a[3]:\n",
    "                    return False\n",
    "                else:\n",
    "                    return True\n",
    "        if a[4] < a[2] and a[4] < a[0]:\n",
    "            if a[1] > a[3]:\n",
    "                if a[2] < a[1]:\n",
    "                    return False\n",
    "                else:\n",
    "                    return True\n",
    "            else:\n",
    "                if a[2] < a[3]:\n",
    "                    return False\n",
    "                else:\n",
    "                    return True\n",
    "                \n",
    "                \n",
    "    #minima first\n",
    "    if a[0] < a[1]:\n",
    "        if a[0] > a[2] and a[0] > a[4]:\n",
    "            if a[1] < a[3]:\n",
    "                if a[0] > a[1]:\n",
    "                    return False\n",
    "                else:\n",
    "                    return True\n",
    "            else:\n",
    "                if a[0] > a[3]:\n",
    "                    return False\n",
    "                else:\n",
    "                    return True\n",
    "        if a[2] > a[0] and a[2] > a[4]:\n",
    "            if a[1] < a[3]:\n",
    "                if a[2] > a[1]:\n",
    "                    return False\n",
    "                else:\n",
    "                    return True\n",
    "            else:\n",
    "                if a[2] > a[3]:\n",
    "                    return False\n",
    "                else:\n",
    "                    return True\n",
    "        if a[4] > a[2] and a[4] > a[0]:\n",
    "            if a[1] < a[3]:\n",
    "                if a[4] > a[1]:\n",
    "                    return False\n",
    "                else:\n",
    "                    return True\n",
    "            else:\n",
    "                if a[4] > a[3]:\n",
    "                    return False\n",
    "                else:\n",
    "                    return True\n",
    "        \n",
    "    \n",
    "    "
   ]
  },
  {
   "cell_type": "code",
   "execution_count": 18,
   "metadata": {
    "collapsed": false
   },
   "outputs": [],
   "source": [
    "pattern_list = patterns(a=data.Close, R=1.05)"
   ]
  },
  {
   "cell_type": "code",
   "execution_count": 19,
   "metadata": {
    "collapsed": false
   },
   "outputs": [],
   "source": [
    "minmax_list = IMPORTANT_POINTS(data.Close, 1.05)"
   ]
  },
  {
   "cell_type": "code",
   "execution_count": 20,
   "metadata": {
    "collapsed": false
   },
   "outputs": [],
   "source": [
    "pattern_HS = [x[1] for x in pattern_list if x[0]=='HS']\n",
    "pattern_IHS = [x[1] for x in pattern_list if x[0]=='IHS']\n",
    "pattern_TTOP = [x[1] for x in pattern_list if x[0]=='TTOP']\n",
    "pattern_TBOT = [x[1] for x in pattern_list if x[0]=='TBOT']\n",
    "pattern_RTOP = [x[1] for x in pattern_list if x[0]=='RTOP']\n",
    "pattern_RBOT = [x[1] for x in pattern_list if x[0]=='RBOT']\n",
    "pattern_BTOP = [x[1] for x in pattern_list if x[0]=='BTOP']\n",
    "pattern_BBOT = [x[1] for x in pattern_list if x[0]=='BBOT']\n",
    "pattern_DTOP = [x[1] for x in pattern_list if x[0]=='DTOP']\n",
    "pattern_DBOT = [x[1] for x in pattern_list if x[0]=='DBOT']"
   ]
  },
  {
   "cell_type": "code",
   "execution_count": 21,
   "metadata": {
    "collapsed": false
   },
   "outputs": [
    {
     "data": {
      "text/plain": [
       "[<matplotlib.lines.Line2D at 0x7f82bf4b2ed0>,\n",
       " <matplotlib.lines.Line2D at 0x7f82bf4c1050>,\n",
       " <matplotlib.lines.Line2D at 0x7f82bf4c1390>]"
      ]
     },
     "execution_count": 21,
     "metadata": {},
     "output_type": "execute_result"
    },
    {
     "data": {
      "image/png": "[encoded data removed]",
      "text/plain": [
       "<Figure size 3000x2000 with 1 Axes>"
      ]
     },
     "metadata": {},
     "output_type": "display_data"
    }
   ],
   "source": [
    "En_max = [x[0] for x in minmax_list if x[2]=='Max']\n",
    "index_max = [x[1] for x in minmax_list if x[2]=='Max']\n",
    "\n",
    "En_min = [x[0] for x in minmax_list if x[2]=='Min']\n",
    "index_min = [x[1] for x in minmax_list if x[2]=='Min']\n",
    "\n",
    "plt.plot(data.Close, 'b', index_max, En_max, 'g^', index_min, En_min, 'rv')"
   ]
  },
  {
   "cell_type": "code",
   "execution_count": 22,
   "metadata": {
    "collapsed": false
   },
   "outputs": [
    {
     "ename": "IndexError",
     "evalue": "There are only 0 images in the collection",
     "output_type": "error",
     "traceback": [
      "\u001b[1;31m---------------------------------------------------------------------------\u001b[0m",
      "\u001b[1;31mIndexError\u001b[0m                                Traceback (most recent call last)",
      "\u001b[1;32m<ipython-input-22-39592f0e4f96>\u001b[0m in \u001b[0;36m<module>\u001b[1;34m()\u001b[0m\n\u001b[0;32m      1\u001b[0m \u001b[1;32mfrom\u001b[0m \u001b[0mskimage\u001b[0m \u001b[1;32mimport\u001b[0m \u001b[0mio\u001b[0m\u001b[1;33m\u001b[0m\u001b[0m\n\u001b[0;32m      2\u001b[0m \u001b[0mimage_stack\u001b[0m \u001b[1;33m=\u001b[0m \u001b[0mio\u001b[0m\u001b[1;33m.\u001b[0m\u001b[0mMultiImage\u001b[0m\u001b[1;33m(\u001b[0m\u001b[1;34m'./index.png'\u001b[0m\u001b[1;33m)\u001b[0m\u001b[1;33m\u001b[0m\u001b[0m\n\u001b[1;32m----> 3\u001b[1;33m \u001b[0mimage\u001b[0m \u001b[1;33m=\u001b[0m \u001b[0mimage_stack\u001b[0m\u001b[1;33m[\u001b[0m\u001b[1;36m0\u001b[0m\u001b[1;33m]\u001b[0m\u001b[1;33m\u001b[0m\u001b[0m\n\u001b[0m\u001b[0;32m      4\u001b[0m \u001b[1;33m\u001b[0m\u001b[0m\n\u001b[0;32m      5\u001b[0m \u001b[0mfig\u001b[0m \u001b[1;33m=\u001b[0m \u001b[0mplt\u001b[0m\u001b[1;33m.\u001b[0m\u001b[0mfigure\u001b[0m\u001b[1;33m(\u001b[0m\u001b[0mfigsize\u001b[0m\u001b[1;33m=\u001b[0m \u001b[1;33m(\u001b[0m\u001b[1;36m20\u001b[0m\u001b[1;33m,\u001b[0m\u001b[1;36m20\u001b[0m\u001b[1;33m)\u001b[0m\u001b[1;33m)\u001b[0m \u001b[1;31m#create an empty figure to plot into with 20x20 size\u001b[0m\u001b[1;33m\u001b[0m\u001b[0m\n",
      "\u001b[1;32m/home/incursio/anaconda2/lib/python2.7/site-packages/skimage/io/collection.pyc\u001b[0m in \u001b[0;36m__getitem__\u001b[1;34m(self, n)\u001b[0m\n\u001b[0;32m    246\u001b[0m \u001b[1;33m\u001b[0m\u001b[0m\n\u001b[0;32m    247\u001b[0m         \u001b[1;32mif\u001b[0m \u001b[0mtype\u001b[0m\u001b[1;33m(\u001b[0m\u001b[0mn\u001b[0m\u001b[1;33m)\u001b[0m \u001b[1;32mis\u001b[0m \u001b[0mint\u001b[0m\u001b[1;33m:\u001b[0m\u001b[1;33m\u001b[0m\u001b[0m\n\u001b[1;32m--> 248\u001b[1;33m             \u001b[0mn\u001b[0m \u001b[1;33m=\u001b[0m \u001b[0mself\u001b[0m\u001b[1;33m.\u001b[0m\u001b[0m_check_imgnum\u001b[0m\u001b[1;33m(\u001b[0m\u001b[0mn\u001b[0m\u001b[1;33m)\u001b[0m\u001b[1;33m\u001b[0m\u001b[0m\n\u001b[0m\u001b[0;32m    249\u001b[0m             \u001b[0midx\u001b[0m \u001b[1;33m=\u001b[0m \u001b[0mn\u001b[0m \u001b[1;33m%\u001b[0m \u001b[0mlen\u001b[0m\u001b[1;33m(\u001b[0m\u001b[0mself\u001b[0m\u001b[1;33m.\u001b[0m\u001b[0mdata\u001b[0m\u001b[1;33m)\u001b[0m\u001b[1;33m\u001b[0m\u001b[0m\n\u001b[0;32m    250\u001b[0m \u001b[1;33m\u001b[0m\u001b[0m\n",
      "\u001b[1;32m/home/incursio/anaconda2/lib/python2.7/site-packages/skimage/io/collection.pyc\u001b[0m in \u001b[0;36m_check_imgnum\u001b[1;34m(self, n)\u001b[0m\n\u001b[0;32m    303\u001b[0m         \u001b[1;32melse\u001b[0m\u001b[1;33m:\u001b[0m\u001b[1;33m\u001b[0m\u001b[0m\n\u001b[0;32m    304\u001b[0m             raise IndexError(\"There are only %s images in the collection\"\n\u001b[1;32m--> 305\u001b[1;33m                              % num)\n\u001b[0m\u001b[0;32m    306\u001b[0m         \u001b[1;32mreturn\u001b[0m \u001b[0mn\u001b[0m\u001b[1;33m\u001b[0m\u001b[0m\n\u001b[0;32m    307\u001b[0m \u001b[1;33m\u001b[0m\u001b[0m\n",
      "\u001b[1;31mIndexError\u001b[0m: There are only 0 images in the collection"
     ]
    }
   ],
   "source": [
    "from skimage import io\n",
    "image_stack = io.MultiImage('./index.png')\n",
    "image = image_stack[0] \n",
    "\n",
    "fig = plt.figure(figsize= (20,20)) #create an empty figure to plot into with 20x20 size\n",
    "io.imshow(image)\n",
    "io.show()"
   ]
  },
  {
   "cell_type": "code",
   "execution_count": null,
   "metadata": {
    "collapsed": false,
    "scrolled": true
   },
   "outputs": [],
   "source": [
    "minmax_list = IMPORTANT_POINTS(a=data.loc[pattern_HS[0][0]-5:pattern_HS[0][4]+5, :].reset_index().Close, R=1.05)\n",
    "\n",
    "En_max = [x[0] for x in minmax_list if x[2]=='Max']\n",
    "index_max = [x[1] for x in minmax_list if x[2]=='Max']\n",
    "\n",
    "En_min = [x[0] for x in minmax_list if x[2]=='Min']\n",
    "index_min = [x[1] for x in minmax_list if x[2]=='Min']\n",
    "\n",
    "print minmax_list\n",
    "\n",
    "plt.plot(data.loc[pattern_HS[0][0]-5:pattern_HS[0][4]+5, :].reset_index().Close, 'b', index_max, En_max, 'g^', index_min, En_min, 'rv')\n"
   ]
  },
  {
   "cell_type": "code",
   "execution_count": null,
   "metadata": {
    "collapsed": false
   },
   "outputs": [],
   "source": [
    "def Plotting(a=data, R=1.05, trading_days=38, pattern_type='HS', OHLCV='Close'):\n",
    "    \n",
    "    pattern_list = patterns(a=a[OHLCV], R=R, trading_days=trading_days)\n",
    "    \n",
    "    #print pattern_list\n",
    "    \n",
    "    pattern_HS = [x[1] for x in pattern_list if x[0]=='HS']\n",
    "    pattern_IHS = [x[1] for x in pattern_list if x[0]=='IHS']\n",
    "    pattern_TTOP = [x[1] for x in pattern_list if x[0]=='TTOP']\n",
    "    pattern_TBOT = [x[1] for x in pattern_list if x[0]=='TBOT']\n",
    "    pattern_RTOP = [x[1] for x in pattern_list if x[0]=='RTOP']\n",
    "    pattern_RBOT = [x[1] for x in pattern_list if x[0]=='RBOT']\n",
    "    pattern_BTOP = [x[1] for x in pattern_list if x[0]=='BTOP']\n",
    "    pattern_BBOT = [x[1] for x in pattern_list if x[0]=='BBOT']\n",
    "    pattern_DTOP = [x[1] for x in pattern_list if x[0]=='DTOP']\n",
    "    pattern_DBOT = [x[1] for x in pattern_list if x[0]=='DBOT']\n",
    "    \n",
    "    if pattern_type == 'HS': pattern_index = pattern_HS\n",
    "    if pattern_type == 'IHS': pattern_index = pattern_IHS\n",
    "    if pattern_type == 'TTOP': pattern_index = pattern_TTOP\n",
    "    if pattern_type == 'TBOT': pattern_index = pattern_TBOT\n",
    "    if pattern_type == 'RTOP': pattern_index = pattern_RTOP\n",
    "    if pattern_type == 'RBOT': pattern_index = pattern_RBOT\n",
    "    if pattern_type == 'BTOP': pattern_index = pattern_BTOP\n",
    "    if pattern_type == 'BBOT': pattern_index = pattern_BBOT\n",
    "    if pattern_type == 'DTOP': pattern_index = pattern_DTOP\n",
    "    if pattern_type == 'DBOT': pattern_index = pattern_DBOT\n",
    "    \n",
    "    if len(pattern_index) == 0 : return\n",
    "    \n",
    "    #print pattern_index\n",
    "    \n",
    "    \n",
    "    #minmax_list = IMPORTANT_POINTS(a=a.loc[pattern_index[0][0]:pattern_index[0][4], :].reset_index()[OHLCV], R=R)\n",
    "    \n",
    "    #En_max = [x[0] for x in minmax_list if x[2]=='Max']\n",
    "    #index_max = [x[1] for x in minmax_list if x[2]=='Max']\n",
    "    \n",
    "    #En_min = [x[0] for x in minmax_list if x[2]=='Min']\n",
    "    #index_min = [x[1] for x in minmax_list if x[2]=='Min']\n",
    "    \n",
    "    if pattern_type == ('HS' or 'TTOP' or 'RTOP' or 'BTOP' or 'DTOP'):\n",
    "        #print pattern_type\n",
    "        En_max = [a.loc[pattern_index[0][0], 'Close'], a.loc[pattern_index[0][2], 'Close'], a.loc[pattern_index[0][4], 'Close']]\n",
    "        index_max = [pattern_index[0][0]+5 - pattern_index[0][0], pattern_index[0][2]+5 - pattern_index[0][0], pattern_index[0][4]+5 - pattern_index[0][0]]\n",
    "        \n",
    "        En_min = [a.loc[pattern_index[0][1], 'Close'], a.loc[pattern_index[0][3], 'Close']]\n",
    "        index_min = [pattern_index[0][1]+5 - pattern_index[0][0], pattern_index[0][3]+5 - pattern_index[0][0]]\n",
    "        \n",
    "        #print En_min, En_max, index_min, index_max\n",
    "        \n",
    "    else:\n",
    "        En_min = [a.loc[pattern_index[0][0], 'Close'], a.loc[pattern_index[0][2], 'Close'], a.loc[pattern_index[0][4], 'Close']]\n",
    "        index_min = [pattern_index[0][0]+5 - pattern_index[0][0], pattern_index[0][2]+5 - pattern_index[0][0], pattern_index[0][4]+5 - pattern_index[0][0]]\n",
    "        \n",
    "        En_max = [a.loc[pattern_index[0][1], 'Close'], a.loc[pattern_index[0][3], 'Close']]\n",
    "        index_max = [pattern_index[0][1]+5 - pattern_index[0][0], pattern_index[0][3]+5 - pattern_index[0][0]]\n",
    "        \n",
    "        #print En_min, En_max, index_min, index_max\n",
    "    \n",
    "    plt.plot(a.loc[pattern_index[0][0]-5:pattern_index[0][4]+5, :].reset_index()[OHLCV], 'b', index_max, En_max, 'g^', index_min, En_min, 'rv')\n"
   ]
  },
  {
   "cell_type": "code",
   "execution_count": null,
   "metadata": {
    "collapsed": false
   },
   "outputs": [],
   "source": [
    "Plotting(a=data, R=1.05, trading_days=38, pattern_type='TBOT', OHLCV='Close')"
   ]
  },
  {
   "cell_type": "code",
   "execution_count": null,
   "metadata": {
    "collapsed": false
   },
   "outputs": [],
   "source": [
    "minmax_list = IMPORTANT_POINTS(a=data.loc[pattern_HS[0][0]-10:pattern_HS[0][4]+10, :].reset_index().Close, R=1.05)"
   ]
  },
  {
   "cell_type": "code",
   "execution_count": null,
   "metadata": {
    "collapsed": false
   },
   "outputs": [],
   "source": [
    "minmax_list"
   ]
  },
  {
   "cell_type": "code",
   "execution_count": null,
   "metadata": {
    "collapsed": false
   },
   "outputs": [],
   "source": [
    "r = [1,3]\n",
    "\n",
    "i = eval(raw_input('Give input: '))\n",
    "\n",
    "print i"
   ]
  },
  {
   "cell_type": "code",
   "execution_count": null,
   "metadata": {
    "collapsed": false
   },
   "outputs": [],
   "source": [
    "k = raw_input()"
   ]
  },
  {
   "cell_type": "code",
   "execution_count": null,
   "metadata": {
    "collapsed": false
   },
   "outputs": [],
   "source": [
    "bool(eval(k))"
   ]
  },
  {
   "cell_type": "code",
   "execution_count": null,
   "metadata": {
    "collapsed": false
   },
   "outputs": [],
   "source": [
    "k"
   ]
  },
  {
   "cell_type": "code",
   "execution_count": null,
   "metadata": {
    "collapsed": false
   },
   "outputs": [],
   "source": [
    "bool(True) == bool(0)"
   ]
  },
  {
   "cell_type": "code",
   "execution_count": null,
   "metadata": {
    "collapsed": false
   },
   "outputs": [],
   "source": [
    "True"
   ]
  },
  {
   "cell_type": "code",
   "execution_count": null,
   "metadata": {
    "collapsed": false
   },
   "outputs": [],
   "source": [
    "reduce(lambda x, y: x*y, i)"
   ]
  },
  {
   "cell_type": "code",
   "execution_count": null,
   "metadata": {
    "collapsed": false
   },
   "outputs": [],
   "source": [
    "min([2,3,4,6])"
   ]
  },
  {
   "cell_type": "code",
   "execution_count": null,
   "metadata": {
    "collapsed": false
   },
   "outputs": [],
   "source": [
    "bool(eval(raw_input()))"
   ]
  },
  {
   "cell_type": "code",
   "execution_count": null,
   "metadata": {
    "collapsed": false
   },
   "outputs": [],
   "source": [
    "type(True)"
   ]
  },
  {
   "cell_type": "code",
   "execution_count": null,
   "metadata": {
    "collapsed": false
   },
   "outputs": [],
   "source": [
    "np.True_"
   ]
  },
  {
   "cell_type": "code",
   "execution_count": 107,
   "metadata": {
    "collapsed": false
   },
   "outputs": [],
   "source": [
    "from datetime import datetime, timedelta"
   ]
  },
  {
   "cell_type": "code",
   "execution_count": 110,
   "metadata": {
    "collapsed": false
   },
   "outputs": [
    {
     "name": "stdout",
     "output_type": "stream",
     "text": [
      "2018-01-25 00:00:00\n"
     ]
    }
   ],
   "source": [
    "date = '2018-01-25'\n",
    "date = datetime.strptime(date, '%Y-%m-%d')\n",
    "print date"
   ]
  },
  {
   "cell_type": "code",
   "execution_count": 111,
   "metadata": {
    "collapsed": false
   },
   "outputs": [
    {
     "name": "stdout",
     "output_type": "stream",
     "text": [
      "                  Open        High         Low       Close   Adj Close  \\\n",
      "Date                                                                     \n",
      "2017-12-18  268.100006  268.600006  267.980011  268.200012  267.130127   \n",
      "2017-12-19  268.480011  268.529999  267.089996  267.170013  266.104248   \n",
      "2017-12-20  268.269989  268.329987  266.690002  267.029999  265.964783   \n",
      "2017-12-21  267.739990  268.390015  267.299988  267.579987  266.512573   \n",
      "2017-12-22  267.600006  267.640015  266.899994  267.510010  266.442871   \n",
      "2017-12-26  267.049988  267.440002  266.890015  267.190002  266.124146   \n",
      "2017-12-27  267.380005  267.730011  267.010010  267.320007  266.253632   \n",
      "2017-12-28  267.890015  267.920013  267.450012  267.869995  266.801422   \n",
      "2017-12-29  268.529999  268.549988  266.640015  266.859985  265.795441   \n",
      "2018-01-02  267.839996  268.809998  267.399994  268.769989  267.697845   \n",
      "2018-01-03  268.959991  270.640015  268.959991  270.470001  269.391083   \n",
      "2018-01-04  271.200012  272.160004  270.540009  271.609985  270.526520   \n",
      "2018-01-05  272.510010  273.559998  271.950012  273.420013  272.329315   \n",
      "2018-01-08  273.309998  274.100006  272.980011  273.920013  272.827332   \n",
      "2018-01-09  274.399994  275.250000  274.079987  274.540009  273.444855   \n",
      "2018-01-10  273.679993  274.420013  272.920013  274.119995  273.026489   \n",
      "2018-01-11  274.750000  276.119995  274.559998  276.119995  275.018524   \n",
      "2018-01-12  276.420013  278.109985  276.079987  277.920013  276.811371   \n",
      "2018-01-16  279.350006  280.089996  276.179993  276.970001  275.865143   \n",
      "2018-01-17  278.029999  280.049988  276.970001  279.609985  278.494598   \n",
      "2018-01-18  279.480011  279.959991  278.579987  279.140015  278.026489   \n",
      "2018-01-19  279.799988  280.410004  279.140015  280.410004  279.291412   \n",
      "2018-01-22  280.170013  282.690002  280.109985  282.690002  281.562317   \n",
      "2018-01-23  282.739990  283.619995  282.369995  283.290009  282.159943   \n",
      "2018-01-24  284.019989  284.700012  281.839996  283.179993  282.050354   \n",
      "2018-01-25  284.160004  284.269989  282.399994  283.299988  282.169861   \n",
      "\n",
      "               Volume  \n",
      "Date                   \n",
      "2017-12-18   83653600  \n",
      "2017-12-19   82382900  \n",
      "2017-12-20   76751500  \n",
      "2017-12-21   67032300  \n",
      "2017-12-22   78720900  \n",
      "2017-12-26   45244400  \n",
      "2017-12-27   57751000  \n",
      "2017-12-28   45116100  \n",
      "2017-12-29   96007400  \n",
      "2018-01-02   86655700  \n",
      "2018-01-03   90070400  \n",
      "2018-01-04   80636400  \n",
      "2018-01-05   83524000  \n",
      "2018-01-08   57319200  \n",
      "2018-01-09   57254000  \n",
      "2018-01-10   69574300  \n",
      "2018-01-11   62361500  \n",
      "2018-01-12   90816100  \n",
      "2018-01-16  106555100  \n",
      "2018-01-17  113258800  \n",
      "2018-01-18  100728000  \n",
      "2018-01-19  140920100  \n",
      "2018-01-22   91322400  \n",
      "2018-01-23   97084700  \n",
      "2018-01-24  134816100  \n",
      "2018-01-25   84587300  \n"
     ]
    }
   ],
   "source": [
    "#data.set_index('Date', inplace=True)\n",
    "st = ( date - timedelta(days=38) ).strftime('%Y-%m-%d')\n",
    "en = date.strftime('%Y-%m-%d')\n",
    "data = data[st:en]\n",
    "print data"
   ]
  },
  {
   "cell_type": "code",
   "execution_count": 112,
   "metadata": {
    "collapsed": false
   },
   "outputs": [
    {
     "data": {
      "text/plain": [
       "Index([u'2017-12-18', u'2017-12-19', u'2017-12-20', u'2017-12-21',\n",
       "       u'2017-12-22', u'2017-12-26', u'2017-12-27', u'2017-12-28',\n",
       "       u'2017-12-29', u'2018-01-02', u'2018-01-03', u'2018-01-04',\n",
       "       u'2018-01-05', u'2018-01-08', u'2018-01-09', u'2018-01-10',\n",
       "       u'2018-01-11', u'2018-01-12', u'2018-01-16', u'2018-01-17',\n",
       "       u'2018-01-18', u'2018-01-19', u'2018-01-22', u'2018-01-23',\n",
       "       u'2018-01-24', u'2018-01-25'],\n",
       "      dtype='object', name=u'Date')"
      ]
     },
     "execution_count": 112,
     "metadata": {},
     "output_type": "execute_result"
    }
   ],
   "source": [
    "data.index"
   ]
  },
  {
   "cell_type": "code",
   "execution_count": 124,
   "metadata": {
    "collapsed": false
   },
   "outputs": [
    {
     "data": {
      "text/html": [
       "<div>\n",
       "<table border=\"1\" class=\"dataframe\">\n",
       "  <thead>\n",
       "    <tr style=\"text-align: right;\">\n",
       "      <th></th>\n",
       "      <th>Open</th>\n",
       "      <th>High</th>\n",
       "      <th>Low</th>\n",
       "      <th>Close</th>\n",
       "      <th>Adj Close</th>\n",
       "      <th>Volume</th>\n",
       "    </tr>\n",
       "    <tr>\n",
       "      <th>Date</th>\n",
       "      <th></th>\n",
       "      <th></th>\n",
       "      <th></th>\n",
       "      <th></th>\n",
       "      <th></th>\n",
       "      <th></th>\n",
       "    </tr>\n",
       "  </thead>\n",
       "  <tbody>\n",
       "    <tr>\n",
       "      <th>2017-12-21</th>\n",
       "      <td>267.739990</td>\n",
       "      <td>268.390015</td>\n",
       "      <td>267.299988</td>\n",
       "      <td>267.579987</td>\n",
       "      <td>266.512573</td>\n",
       "      <td>67032300</td>\n",
       "    </tr>\n",
       "    <tr>\n",
       "      <th>2017-12-22</th>\n",
       "      <td>267.600006</td>\n",
       "      <td>267.640015</td>\n",
       "      <td>266.899994</td>\n",
       "      <td>267.510010</td>\n",
       "      <td>266.442871</td>\n",
       "      <td>78720900</td>\n",
       "    </tr>\n",
       "    <tr>\n",
       "      <th>2017-12-26</th>\n",
       "      <td>267.049988</td>\n",
       "      <td>267.440002</td>\n",
       "      <td>266.890015</td>\n",
       "      <td>267.190002</td>\n",
       "      <td>266.124146</td>\n",
       "      <td>45244400</td>\n",
       "    </tr>\n",
       "    <tr>\n",
       "      <th>2017-12-27</th>\n",
       "      <td>267.380005</td>\n",
       "      <td>267.730011</td>\n",
       "      <td>267.010010</td>\n",
       "      <td>267.320007</td>\n",
       "      <td>266.253632</td>\n",
       "      <td>57751000</td>\n",
       "    </tr>\n",
       "    <tr>\n",
       "      <th>2017-12-28</th>\n",
       "      <td>267.890015</td>\n",
       "      <td>267.920013</td>\n",
       "      <td>267.450012</td>\n",
       "      <td>267.869995</td>\n",
       "      <td>266.801422</td>\n",
       "      <td>45116100</td>\n",
       "    </tr>\n",
       "    <tr>\n",
       "      <th>2017-12-29</th>\n",
       "      <td>268.529999</td>\n",
       "      <td>268.549988</td>\n",
       "      <td>266.640015</td>\n",
       "      <td>266.859985</td>\n",
       "      <td>265.795441</td>\n",
       "      <td>96007400</td>\n",
       "    </tr>\n",
       "    <tr>\n",
       "      <th>2018-01-02</th>\n",
       "      <td>267.839996</td>\n",
       "      <td>268.809998</td>\n",
       "      <td>267.399994</td>\n",
       "      <td>268.769989</td>\n",
       "      <td>267.697845</td>\n",
       "      <td>86655700</td>\n",
       "    </tr>\n",
       "    <tr>\n",
       "      <th>2018-01-03</th>\n",
       "      <td>268.959991</td>\n",
       "      <td>270.640015</td>\n",
       "      <td>268.959991</td>\n",
       "      <td>270.470001</td>\n",
       "      <td>269.391083</td>\n",
       "      <td>90070400</td>\n",
       "    </tr>\n",
       "    <tr>\n",
       "      <th>2018-01-04</th>\n",
       "      <td>271.200012</td>\n",
       "      <td>272.160004</td>\n",
       "      <td>270.540009</td>\n",
       "      <td>271.609985</td>\n",
       "      <td>270.526520</td>\n",
       "      <td>80636400</td>\n",
       "    </tr>\n",
       "    <tr>\n",
       "      <th>2018-01-05</th>\n",
       "      <td>272.510010</td>\n",
       "      <td>273.559998</td>\n",
       "      <td>271.950012</td>\n",
       "      <td>273.420013</td>\n",
       "      <td>272.329315</td>\n",
       "      <td>83524000</td>\n",
       "    </tr>\n",
       "  </tbody>\n",
       "</table>\n",
       "</div>"
      ],
      "text/plain": [
       "                  Open        High         Low       Close   Adj Close  \\\n",
       "Date                                                                     \n",
       "2017-12-21  267.739990  268.390015  267.299988  267.579987  266.512573   \n",
       "2017-12-22  267.600006  267.640015  266.899994  267.510010  266.442871   \n",
       "2017-12-26  267.049988  267.440002  266.890015  267.190002  266.124146   \n",
       "2017-12-27  267.380005  267.730011  267.010010  267.320007  266.253632   \n",
       "2017-12-28  267.890015  267.920013  267.450012  267.869995  266.801422   \n",
       "2017-12-29  268.529999  268.549988  266.640015  266.859985  265.795441   \n",
       "2018-01-02  267.839996  268.809998  267.399994  268.769989  267.697845   \n",
       "2018-01-03  268.959991  270.640015  268.959991  270.470001  269.391083   \n",
       "2018-01-04  271.200012  272.160004  270.540009  271.609985  270.526520   \n",
       "2018-01-05  272.510010  273.559998  271.950012  273.420013  272.329315   \n",
       "\n",
       "              Volume  \n",
       "Date                  \n",
       "2017-12-21  67032300  \n",
       "2017-12-22  78720900  \n",
       "2017-12-26  45244400  \n",
       "2017-12-27  57751000  \n",
       "2017-12-28  45116100  \n",
       "2017-12-29  96007400  \n",
       "2018-01-02  86655700  \n",
       "2018-01-03  90070400  \n",
       "2018-01-04  80636400  \n",
       "2018-01-05  83524000  "
      ]
     },
     "execution_count": 124,
     "metadata": {},
     "output_type": "execute_result"
    }
   ],
   "source": [
    "data['2017-12-21':'2018-01-05']"
   ]
  },
  {
   "cell_type": "code",
   "execution_count": 132,
   "metadata": {
    "collapsed": false
   },
   "outputs": [
    {
     "data": {
      "text/plain": [
       "<pandas.core.indexing._iLocIndexer at 0x7f82b021a310>"
      ]
     },
     "execution_count": 132,
     "metadata": {},
     "output_type": "execute_result"
    }
   ],
   "source": [
    "data.ix['2018-01-05'].iloc"
   ]
  },
  {
   "cell_type": "code",
   "execution_count": 134,
   "metadata": {
    "collapsed": true
   },
   "outputs": [],
   "source": [
    "data = pd.read_csv('./SPY1.csv')"
   ]
  },
  {
   "cell_type": "code",
   "execution_count": 151,
   "metadata": {
    "collapsed": false
   },
   "outputs": [
    {
     "data": {
      "text/plain": [
       "6293"
      ]
     },
     "execution_count": 151,
     "metadata": {},
     "output_type": "execute_result"
    }
   ],
   "source": [
    "data[data.Date == date.strftime('%Y-%m-%d')].index.get_values()[0]"
   ]
  },
  {
   "cell_type": "code",
   "execution_count": 154,
   "metadata": {
    "collapsed": true
   },
   "outputs": [],
   "source": [
    "if date.strftime('%Y-%m-%d') in data.Date:\n",
    "    print date.strftime('%Y-%m-%d')"
   ]
  },
  {
   "cell_type": "code",
   "execution_count": 155,
   "metadata": {
    "collapsed": false
   },
   "outputs": [
    {
     "data": {
      "text/plain": [
       "'2018-01-25'"
      ]
     },
     "execution_count": 155,
     "metadata": {},
     "output_type": "execute_result"
    }
   ],
   "source": [
    "date.strftime('%Y-%m-%d')"
   ]
  },
  {
   "cell_type": "code",
   "execution_count": 161,
   "metadata": {
    "collapsed": false
   },
   "outputs": [
    {
     "data": {
      "text/plain": [
       "1"
      ]
     },
     "execution_count": 161,
     "metadata": {},
     "output_type": "execute_result"
    }
   ],
   "source": [
    "(date.strftime('%Y-%m-%d') == data.Date).sum()"
   ]
  },
  {
   "cell_type": "code",
   "execution_count": 172,
   "metadata": {
    "collapsed": false
   },
   "outputs": [
    {
     "data": {
      "text/plain": [
       "False"
      ]
     },
     "execution_count": 172,
     "metadata": {},
     "output_type": "execute_result"
    }
   ],
   "source": [
    "date = '2018-01-02'\n",
    "date = datetime.strptime(date, '%Y-%m-%d')\n",
    "not data[data.Date == date.strftime('%Y-%m-%d')].index.get_values()"
   ]
  },
  {
   "cell_type": "code",
   "execution_count": 174,
   "metadata": {
    "collapsed": false
   },
   "outputs": [
    {
     "ename": "SyntaxError",
     "evalue": "invalid syntax (<ipython-input-174-0e9463964959>, line 3)",
     "output_type": "error",
     "traceback": [
      "\u001b[1;36m  File \u001b[1;32m\"<ipython-input-174-0e9463964959>\"\u001b[1;36m, line \u001b[1;32m3\u001b[0m\n\u001b[1;33m    i += 1 for x in range(0,10) if i < 5\u001b[0m\n\u001b[1;37m             ^\u001b[0m\n\u001b[1;31mSyntaxError\u001b[0m\u001b[1;31m:\u001b[0m invalid syntax\n"
     ]
    }
   ],
   "source": [
    "i=0\n",
    "x=0\n",
    "i += 1 for x in range(0,10) if i < 5"
   ]
  },
  {
   "cell_type": "code",
   "execution_count": 175,
   "metadata": {
    "collapsed": true
   },
   "outputs": [],
   "source": [
    "i=2\n",
    "index = [2,3,4,5]"
   ]
  },
  {
   "cell_type": "code",
   "execution_count": 181,
   "metadata": {
    "collapsed": false
   },
   "outputs": [
    {
     "ename": "SyntaxError",
     "evalue": "invalid syntax (<ipython-input-181-1afaee2a451f>, line 1)",
     "output_type": "error",
     "traceback": [
      "\u001b[1;36m  File \u001b[1;32m\"<ipython-input-181-1afaee2a451f>\"\u001b[1;36m, line \u001b[1;32m1\u001b[0m\n\u001b[1;33m    index[i-=1]\u001b[0m\n\u001b[1;37m            ^\u001b[0m\n\u001b[1;31mSyntaxError\u001b[0m\u001b[1;31m:\u001b[0m invalid syntax\n"
     ]
    }
   ],
   "source": [
    "index[i-=1]"
   ]
  },
  {
   "cell_type": "code",
   "execution_count": 182,
   "metadata": {
    "collapsed": false
   },
   "outputs": [],
   "source": [
    "i = [1,2,3]"
   ]
  },
  {
   "cell_type": "code",
   "execution_count": 185,
   "metadata": {
    "collapsed": true
   },
   "outputs": [],
   "source": [
    "z = i[0:2] + [5]"
   ]
  },
  {
   "cell_type": "code",
   "execution_count": 186,
   "metadata": {
    "collapsed": false
   },
   "outputs": [
    {
     "data": {
      "text/plain": [
       "[1, 2, 5]"
      ]
     },
     "execution_count": 186,
     "metadata": {},
     "output_type": "execute_result"
    }
   ],
   "source": [
    "z"
   ]
  },
  {
   "cell_type": "code",
   "execution_count": 189,
   "metadata": {
    "collapsed": false
   },
   "outputs": [
    {
     "data": {
      "text/plain": [
       "43.9375"
      ]
     },
     "execution_count": 189,
     "metadata": {},
     "output_type": "execute_result"
    }
   ],
   "source": [
    "data.ix[0].Close"
   ]
  },
  {
   "cell_type": "code",
   "execution_count": 193,
   "metadata": {
    "collapsed": false
   },
   "outputs": [
    {
     "data": {
      "text/plain": [
       "0.4318872109706423"
      ]
     },
     "execution_count": 193,
     "metadata": {},
     "output_type": "execute_result"
    }
   ],
   "source": [
    "data[0:5].Close.std()"
   ]
  },
  {
   "cell_type": "code",
   "execution_count": null,
   "metadata": {
    "collapsed": true
   },
   "outputs": [],
   "source": []
  }
 ],
 "metadata": {
  "kernelspec": {
   "display_name": "Python 2",
   "language": "python",
   "name": "python2"
  },
  "language_info": {
   "codemirror_mode": {
    "name": "ipython",
    "version": 2
   },
   "file_extension": ".py",
   "mimetype": "text/x-python",
   "name": "python",
   "nbconvert_exporter": "python",
   "pygments_lexer": "ipython2",
   "version": "2.7.14"
  }
 },
 "nbformat": 4,
 "nbformat_minor": 0
}
